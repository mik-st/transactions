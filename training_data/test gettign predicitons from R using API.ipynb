{
 "cells": [
  {
   "cell_type": "code",
   "execution_count": 1,
   "id": "fefaae7b",
   "metadata": {},
   "outputs": [],
   "source": [
    "#This is just to test sending data from python to R, where we have our trained models there\n",
    "#and getting response back in python\n",
    "\n",
    "\n",
    "\n",
    "##stucture:\n",
    "#All models should be stored as separate files \n",
    "#in API.R , all models should be load and referred to\n",
    "# after that, you need to trigger the api.r running the trigger_api.rmd\n",
    "\n",
    "\n",
    "import requests"
   ]
  },
  {
   "cell_type": "code",
   "execution_count": 68,
   "id": "28158981",
   "metadata": {},
   "outputs": [
    {
     "data": {
      "text/plain": [
       "'[\"Undergraduate\"]'"
      ]
     },
     "execution_count": 68,
     "metadata": {},
     "output_type": "execute_result"
    }
   ],
   "source": [
    "#m1\n",
    "\n",
    "data = {\n",
    "    \"age\": 25,\n",
    "    \"gender\": 'female',\n",
    "    \"country\": \"Germany\",\n",
    " \n",
    "}\n",
    "response = requests.post(\"http://localhost:8000/predict_m1\", data=data)\n",
    "m1=response.text\n",
    "m1"
   ]
  },
  {
   "cell_type": "code",
   "execution_count": 40,
   "id": "040356b9",
   "metadata": {},
   "outputs": [
    {
     "data": {
      "text/plain": [
       "'{\"predictions\":[20.7165]}'"
      ]
     },
     "execution_count": 40,
     "metadata": {},
     "output_type": "execute_result"
    }
   ],
   "source": [
    " #m4\n",
    "data = {\n",
    "    \"age\": 45,\n",
    "    \"gender\": \"female\",\n",
    "    \"country\": \"Germany\",\n",
    " 'profession' :   'Architect'\n",
    "}\n",
    "response = requests.post(\"http://localhost:8000/predict_m4\", data=data)\n",
    "m4=response.text\n",
    "m4"
   ]
  },
  {
   "cell_type": "code",
   "execution_count": 45,
   "id": "c3307d57",
   "metadata": {},
   "outputs": [
    {
     "data": {
      "text/plain": [
       "'{\"predictions\":[\"0\"]}'"
      ]
     },
     "execution_count": 45,
     "metadata": {},
     "output_type": "execute_result"
    }
   ],
   "source": [
    "#m5\n",
    "data = {\n",
    "    \"age\": 66,\n",
    "    \"gender\": \"male\",\n",
    "    \"country\": \"Germany\",\n",
    " \"profession\" :  \"Architect\", \n",
    "    \"years_experience\" : 7\n",
    "    \n",
    "}\n",
    "response = requests.post(\"http://localhost:8000/predict_m5\", data=data)\n",
    "m5=response.text\n",
    "m5"
   ]
  },
  {
   "cell_type": "code",
   "execution_count": 52,
   "id": "6959437f",
   "metadata": {},
   "outputs": [
    {
     "data": {
      "text/plain": [
       "'[3986.9077]'"
      ]
     },
     "execution_count": 52,
     "metadata": {},
     "output_type": "execute_result"
    }
   ],
   "source": [
    "#m6\n",
    "data = {\n",
    "   \n",
    "    \"gender\": \"male\",\n",
    "    \"country\": \"Germany\",\n",
    "  \"profession\" :  \"Architect\", \n",
    "    \"years_experience\" : 55\n",
    "    \n",
    "}\n",
    "response = requests.post(\"http://localhost:8000/predict_m6\", data=data)\n",
    "m6=response.text\n",
    "m6"
   ]
  },
  {
   "cell_type": "code",
   "execution_count": 55,
   "id": "309d2526",
   "metadata": {},
   "outputs": [
    {
     "data": {
      "text/plain": [
       "'[105624.5]'"
      ]
     },
     "execution_count": 55,
     "metadata": {},
     "output_type": "execute_result"
    }
   ],
   "source": [
    "#m7\n",
    "# salary_eur,working,education_level, gender , country, profession, years_experience\n",
    "data = {\n",
    "   'salary_eur' : 400,\n",
    "    'working' : '1',\n",
    "    'education_level' : 'Postgraduate',\n",
    "    \"gender\": \"male\",\n",
    "    \"country\": \"Germany\",\n",
    "  \"profession\" :  \"Electrical Engineer\", \n",
    "    \"years_experience\" : 73\n",
    "    \n",
    "}\n",
    "response = requests.post(\"http://localhost:8000/predict_m7\", data=data)\n",
    "m7=response.text\n",
    "m7"
   ]
  },
  {
   "cell_type": "code",
   "execution_count": 58,
   "id": "d603bef9",
   "metadata": {},
   "outputs": [
    {
     "data": {
      "text/plain": [
       "'{\"predictions\":[\"Upper-Class_Financially_Stable\"]}'"
      ]
     },
     "execution_count": 58,
     "metadata": {},
     "output_type": "execute_result"
    }
   ],
   "source": [
    "#m8\n",
    "#   spendingBehaviour ~ balance_eur +   working + education_level+   gender + country + profession,\n",
    "data = {\n",
    "   'balance_eur' : 4000000,\n",
    "    'working' : '1',\n",
    "    'education_level' : 'Postgraduate',\n",
    "    \"gender\": \"male\",\n",
    "    \"country\": \"Germany\",\n",
    "  \"profession\" :  \"Electrical Engineer\", \n",
    "  \n",
    "    \n",
    "}\n",
    "response = requests.post(\"http://localhost:8000/predict_m8\", data=data)\n",
    "m8=response.text\n",
    "m8"
   ]
  },
  {
   "cell_type": "code",
   "execution_count": 140,
   "id": "e55ec223",
   "metadata": {},
   "outputs": [
    {
     "data": {
      "text/plain": [
       "'Undergraduate'"
      ]
     },
     "execution_count": 140,
     "metadata": {},
     "output_type": "execute_result"
    }
   ],
   "source": [
    "#this is just to splot the response and to get it clean, depending on the model\n",
    "json.loads(m1)[0]"
   ]
  },
  {
   "cell_type": "code",
   "execution_count": 141,
   "id": "b930d301",
   "metadata": {},
   "outputs": [
    {
     "data": {
      "text/plain": [
       "36.8189"
      ]
     },
     "execution_count": 141,
     "metadata": {},
     "output_type": "execute_result"
    }
   ],
   "source": [
    "json.loads(m4) ['predictions'][0]"
   ]
  },
  {
   "cell_type": "code",
   "execution_count": 142,
   "id": "6546b4e6",
   "metadata": {},
   "outputs": [
    {
     "data": {
      "text/plain": [
       "'1'"
      ]
     },
     "execution_count": 142,
     "metadata": {},
     "output_type": "execute_result"
    }
   ],
   "source": [
    "json.loads(m5) ['predictions'][0]"
   ]
  },
  {
   "cell_type": "code",
   "execution_count": 143,
   "id": "5303f5dd",
   "metadata": {},
   "outputs": [
    {
     "data": {
      "text/plain": [
       "4851.644"
      ]
     },
     "execution_count": 143,
     "metadata": {},
     "output_type": "execute_result"
    }
   ],
   "source": [
    "json.loads(m6)[0]"
   ]
  },
  {
   "cell_type": "code",
   "execution_count": 144,
   "id": "e66e9c53",
   "metadata": {},
   "outputs": [
    {
     "data": {
      "text/plain": [
       "42250.9219"
      ]
     },
     "execution_count": 144,
     "metadata": {},
     "output_type": "execute_result"
    }
   ],
   "source": [
    "json.loads(m7)[0]"
   ]
  },
  {
   "cell_type": "code",
   "execution_count": 146,
   "id": "3137aba9",
   "metadata": {},
   "outputs": [
    {
     "data": {
      "text/plain": [
       "'Middle-Class_Value_Seeker'"
      ]
     },
     "execution_count": 146,
     "metadata": {},
     "output_type": "execute_result"
    }
   ],
   "source": [
    "json.loads(m8) ['predictions'][0]"
   ]
  },
  {
   "cell_type": "code",
   "execution_count": 13,
   "id": "88247659",
   "metadata": {},
   "outputs": [
    {
     "name": "stdout",
     "output_type": "stream",
     "text": [
      "Collecting rpy2\n",
      "  Downloading rpy2-3.5.17.tar.gz (220 kB)\n",
      "  Installing build dependencies: started\n",
      "  Installing build dependencies: finished with status 'done'\n",
      "  Getting requirements to build wheel: started\n",
      "  Getting requirements to build wheel: finished with status 'error'\n",
      "  Downloading rpy2-3.5.16.tar.gz (220 kB)\n",
      "  Installing build dependencies: started\n",
      "  Installing build dependencies: finished with status 'done'\n",
      "  Getting requirements to build wheel: started\n",
      "  Getting requirements to build wheel: finished with status 'error'\n",
      "  Downloading rpy2-3.5.15.tar.gz (219 kB)Note: you may need to restart the kernel to use updated packages.\n",
      "\n"
     ]
    },
    {
     "name": "stderr",
     "output_type": "stream",
     "text": [
      "  ERROR: Command errored out with exit status 1:\n",
      "   command: 'C:\\Users\\mikda\\anaconda3\\python.exe' 'C:\\Users\\mikda\\anaconda3\\lib\\site-packages\\pip\\_vendor\\pep517\\in_process\\_in_process.py' get_requires_for_build_wheel 'C:\\Users\\mikda\\AppData\\Local\\Temp\\tmp_23v4d3_'\n",
      "       cwd: C:\\Users\\mikda\\AppData\\Local\\Temp\\pip-install-6n7q9mfl\\rpy2_2d23ed3a5e8440109738c43ef4f5dbf6\n",
      "  Complete output (45 lines):\n",
      "  test_pw_r.c\n",
      "  LINK : fatal error LNK1181: cannot open input file 'R.lib'\n",
      "  Traceback (most recent call last):\n",
      "    File \"C:\\Users\\mikda\\AppData\\Local\\Temp\\pip-build-env-s2ka33ib\\overlay\\Lib\\site-packages\\setuptools\\_distutils\\spawn.py\", line 87, in spawn\n",
      "      subprocess.check_call(cmd, env=_inject_macos_ver(env))\n",
      "    File \"C:\\Users\\mikda\\anaconda3\\lib\\subprocess.py\", line 373, in check_call\n",
      "      raise CalledProcessError(retcode, cmd)\n",
      "  subprocess.CalledProcessError: Command '['C:\\\\Program Files (x86)\\\\Microsoft Visual Studio\\\\2022\\\\BuildTools\\\\VC\\\\Tools\\\\MSVC\\\\14.43.34808\\\\bin\\\\HostX86\\\\x64\\\\link.exe', '/nologo', '/INCREMENTAL:NO', '/LTCG', '/MANIFEST:EMBED,ID=1', '/LIBPATH:C:/PROGRA~1/R/R-42~1.2/bin/x64', '/LIBPATH:C:\\\\Program Files (x86)\\\\Microsoft Visual Studio\\\\2022\\\\BuildTools\\\\VC\\\\Tools\\\\MSVC\\\\14.43.34808\\\\lib\\\\x64', 'R.lib', 'm.lib', 'C:\\\\Users\\\\mikda\\\\AppData\\\\Local\\\\Temp\\\\tmp_pw_r_qcx95wh5\\\\Users\\\\mikda\\\\AppData\\\\Local\\\\Temp\\\\tmp_pw_r_qcx95wh5\\\\test_pw_r.obj', '/OUT:C:\\\\Users\\\\mikda\\\\AppData\\\\Local\\\\Temp\\\\tmp_pw_r_qcx95wh5\\\\test_pw_r.exe']' returned non-zero exit status 1181.\n",
      "  \n",
      "  The above exception was the direct cause of the following exception:\n",
      "  \n",
      "  Traceback (most recent call last):\n",
      "    File \"C:\\Users\\mikda\\AppData\\Local\\Temp\\pip-build-env-s2ka33ib\\overlay\\Lib\\site-packages\\setuptools\\_distutils\\compilers\\C\\msvc.py\", line 554, in link\n",
      "      self.spawn([self.linker] + ld_args)\n",
      "    File \"C:\\Users\\mikda\\AppData\\Local\\Temp\\pip-build-env-s2ka33ib\\overlay\\Lib\\site-packages\\setuptools\\_distutils\\compilers\\C\\msvc.py\", line 563, in spawn\n",
      "      return super().spawn(cmd, env=env)\n",
      "    File \"C:\\Users\\mikda\\AppData\\Local\\Temp\\pip-build-env-s2ka33ib\\overlay\\Lib\\site-packages\\setuptools\\_distutils\\compilers\\C\\base.py\", line 1158, in spawn\n",
      "      spawn(cmd, dry_run=self.dry_run, **kwargs)\n",
      "    File \"C:\\Users\\mikda\\AppData\\Local\\Temp\\pip-build-env-s2ka33ib\\overlay\\Lib\\site-packages\\setuptools\\_distutils\\spawn.py\", line 93, in spawn\n",
      "      raise DistutilsExecError(\n",
      "  distutils.errors.DistutilsExecError: command 'C:\\\\Program Files (x86)\\\\Microsoft Visual Studio\\\\2022\\\\BuildTools\\\\VC\\\\Tools\\\\MSVC\\\\14.43.34808\\\\bin\\\\HostX86\\\\x64\\\\link.exe' failed with exit code 1181\n",
      "  \n",
      "  During handling of the above exception, another exception occurred:\n",
      "  \n",
      "  Traceback (most recent call last):\n",
      "    File \"C:\\Users\\mikda\\anaconda3\\lib\\site-packages\\pip\\_vendor\\pep517\\in_process\\_in_process.py\", line 349, in <module>\n",
      "      main()\n",
      "    File \"C:\\Users\\mikda\\anaconda3\\lib\\site-packages\\pip\\_vendor\\pep517\\in_process\\_in_process.py\", line 331, in main\n",
      "      json_out['return_val'] = hook(**hook_input['kwargs'])\n",
      "    File \"C:\\Users\\mikda\\anaconda3\\lib\\site-packages\\pip\\_vendor\\pep517\\in_process\\_in_process.py\", line 117, in get_requires_for_build_wheel\n",
      "      return hook(config_settings)\n",
      "    File \"C:\\Users\\mikda\\AppData\\Local\\Temp\\pip-build-env-s2ka33ib\\overlay\\Lib\\site-packages\\setuptools\\build_meta.py\", line 331, in get_requires_for_build_wheel"
     ]
    },
    {
     "name": "stdout",
     "output_type": "stream",
     "text": [
      "  Installing build dependencies: started\n",
      "  Installing build dependencies: finished with status 'done'\n",
      "  Getting requirements to build wheel: started\n",
      "  Getting requirements to build wheel: finished with status 'error'\n",
      "  Downloading rpy2-3.5.14.tar.gz (219 kB)\n",
      "  Installing build dependencies: started\n",
      "  Installing build dependencies: finished with status 'done'\n",
      "  Getting requirements to build wheel: started\n",
      "  Getting requirements to build wheel: finished with status 'error'\n",
      "  Downloading rpy2-3.5.13.tar.gz (218 kB)\n",
      "  Installing build dependencies: started\n",
      "  Installing build dependencies: finished with status 'done'\n",
      "  Getting requirements to build wheel: started\n",
      "  Getting requirements to build wheel: finished with status 'error'\n",
      "  Downloading rpy2-3.5.12.tar.gz (217 kB)\n",
      "  Installing build dependencies: started\n",
      "  Installing build dependencies: finished with status 'done'\n",
      "  Getting requirements to build wheel: started\n",
      "  Getting requirements to build wheel: finished with status 'done'\n",
      "    Preparing wheel metadata: started\n",
      "    Preparing wheel metadata: finished with status 'done'\n",
      "Requirement already satisfied: pytz in c:\\users\\mikda\\anaconda3\\lib\\site-packages (from rpy2) (2021.3)\n",
      "Collecting tzlocal<5.0\n",
      "  Downloading tzlocal-4.3.1-py3-none-any.whl (20 kB)\n",
      "Requirement already satisfied: packaging in c:\\users\\mikda\\anaconda3\\lib\\site-packages (from rpy2) (21.3)\n",
      "Requirement already satisfied: cffi>=1.10.0 in c:\\users\\mikda\\anaconda3\\lib\\site-packages (from rpy2) (1.15.0)\n",
      "Requirement already satisfied: jinja2 in c:\\users\\mikda\\anaconda3\\lib\\site-packages (from rpy2) (2.11.3)\n",
      "Requirement already satisfied: pycparser in c:\\users\\mikda\\anaconda3\\lib\\site-packages (from cffi>=1.10.0->rpy2) (2.21)\n",
      "Collecting pytz-deprecation-shim\n",
      "  Downloading pytz_deprecation_shim-0.1.0.post0-py2.py3-none-any.whl (15 kB)\n",
      "Collecting tzdata\n",
      "  Downloading tzdata-2025.2-py2.py3-none-any.whl (347 kB)\n",
      "Requirement already satisfied: MarkupSafe>=0.23 in c:\\users\\mikda\\anaconda3\\lib\\site-packages (from jinja2->rpy2) (2.0.1)\n",
      "Requirement already satisfied: pyparsing!=3.0.5,>=2.0.2 in c:\\users\\mikda\\anaconda3\\lib\\site-packages (from packaging->rpy2) (3.0.4)\n",
      "Building wheels for collected packages: rpy2\n",
      "  Building wheel for rpy2 (PEP 517): started\n",
      "  Building wheel for rpy2 (PEP 517): finished with status 'done'\n",
      "  Created wheel for rpy2: filename=rpy2-3.5.12-py3-none-any.whl size=219817 sha256=c39dd9785b4203f88d20352a3f9d016ccfb986a8497bc2d78bc6a7940c4d3464\n",
      "  Stored in directory: c:\\users\\mikda\\appdata\\local\\pip\\cache\\wheels\\f2\\5f\\63\\fb633ae683692191bd4f6d293bc6334f3eb3c1668313a5c53e\n",
      "Successfully built rpy2\n",
      "Installing collected packages: tzdata, pytz-deprecation-shim, tzlocal, rpy2\n",
      "Successfully installed pytz-deprecation-shim-0.1.0.post0 rpy2-3.5.12 tzdata-2025.2 tzlocal-4.3.1\n"
     ]
    },
    {
     "name": "stderr",
     "output_type": "stream",
     "text": [
      "\n",
      "      return self._get_build_requires(config_settings, requirements=[])\n",
      "    File \"C:\\Users\\mikda\\AppData\\Local\\Temp\\pip-build-env-s2ka33ib\\overlay\\Lib\\site-packages\\setuptools\\build_meta.py\", line 301, in _get_build_requires\n",
      "      self.run_setup()\n",
      "    File \"C:\\Users\\mikda\\AppData\\Local\\Temp\\pip-build-env-s2ka33ib\\overlay\\Lib\\site-packages\\setuptools\\build_meta.py\", line 317, in run_setup\n",
      "      exec(code, locals())\n",
      "    File \"<string>\", line 141, in <module>\n",
      "    File \"<string>\", line 121, in get_r_c_extension_status\n",
      "    File \"<string>\", line 82, in get_c_extension_status\n",
      "    File \"C:\\Users\\mikda\\AppData\\Local\\Temp\\pip-build-env-s2ka33ib\\overlay\\Lib\\site-packages\\setuptools\\_distutils\\compilers\\C\\base.py\", line 841, in link_executable\n",
      "      self.link(\n",
      "    File \"C:\\Users\\mikda\\AppData\\Local\\Temp\\pip-build-env-s2ka33ib\\overlay\\Lib\\site-packages\\setuptools\\_distutils\\compilers\\C\\msvc.py\", line 556, in link\n",
      "      raise LinkError(msg)\n",
      "  distutils.compilers.C.errors.LinkError: command 'C:\\\\Program Files (x86)\\\\Microsoft Visual Studio\\\\2022\\\\BuildTools\\\\VC\\\\Tools\\\\MSVC\\\\14.43.34808\\\\bin\\\\HostX86\\\\x64\\\\link.exe' failed with exit code 1181\n",
      "  ----------------------------------------\n",
      "WARNING: Discarding https://files.pythonhosted.org/packages/65/85/f3bf48052106fd93e74bea512a43d3de48617953cba7e6dd40e8626f27f5/rpy2-3.5.17.tar.gz#sha256=dbff08c30f3d79161922623858a5b3b68a3fba8ee1747d6af41bc4ba68f3d582 (from https://pypi.org/simple/rpy2/) (requires-python:>=3.7). Command errored out with exit status 1: 'C:\\Users\\mikda\\anaconda3\\python.exe' 'C:\\Users\\mikda\\anaconda3\\lib\\site-packages\\pip\\_vendor\\pep517\\in_process\\_in_process.py' get_requires_for_build_wheel 'C:\\Users\\mikda\\AppData\\Local\\Temp\\tmp_23v4d3_' Check the logs for full command output.\n",
      "  ERROR: Command errored out with exit status 1:\n",
      "   command: 'C:\\Users\\mikda\\anaconda3\\python.exe' 'C:\\Users\\mikda\\anaconda3\\lib\\site-packages\\pip\\_vendor\\pep517\\in_process\\_in_process.py' get_requires_for_build_wheel 'C:\\Users\\mikda\\AppData\\Local\\Temp\\tmpqpkaxbkp'\n",
      "       cwd: C:\\Users\\mikda\\AppData\\Local\\Temp\\pip-install-6n7q9mfl\\rpy2_d13f50b94e46484abc0f6186d5a0a9c7\n",
      "  Complete output (45 lines):\n",
      "  test_pw_r.c\n",
      "  LINK : fatal error LNK1181: cannot open input file 'R.lib'\n",
      "  Traceback (most recent call last):\n",
      "    File \"C:\\Users\\mikda\\AppData\\Local\\Temp\\pip-build-env-_r21jras\\overlay\\Lib\\site-packages\\setuptools\\_distutils\\spawn.py\", line 87, in spawn\n",
      "      subprocess.check_call(cmd, env=_inject_macos_ver(env))\n",
      "    File \"C:\\Users\\mikda\\anaconda3\\lib\\subprocess.py\", line 373, in check_call\n",
      "      raise CalledProcessError(retcode, cmd)\n",
      "  subprocess.CalledProcessError: Command '['C:\\\\Program Files (x86)\\\\Microsoft Visual Studio\\\\2022\\\\BuildTools\\\\VC\\\\Tools\\\\MSVC\\\\14.43.34808\\\\bin\\\\HostX86\\\\x64\\\\link.exe', '/nologo', '/INCREMENTAL:NO', '/LTCG', '/MANIFEST:EMBED,ID=1', '/LIBPATH:C:/PROGRA~1/R/R-42~1.2/bin/x64', '/LIBPATH:C:\\\\Program Files (x86)\\\\Microsoft Visual Studio\\\\2022\\\\BuildTools\\\\VC\\\\Tools\\\\MSVC\\\\14.43.34808\\\\lib\\\\x64', 'R.lib', 'm.lib', 'C:\\\\Users\\\\mikda\\\\AppData\\\\Local\\\\Temp\\\\tmp_pw_r_4rktdtnj\\\\Users\\\\mikda\\\\AppData\\\\Local\\\\Temp\\\\tmp_pw_r_4rktdtnj\\\\test_pw_r.obj', '/OUT:C:\\\\Users\\\\mikda\\\\AppData\\\\Local\\\\Temp\\\\tmp_pw_r_4rktdtnj\\\\test_pw_r.exe']' returned non-zero exit status 1181.\n",
      "  \n",
      "  The above exception was the direct cause of the following exception:\n",
      "  \n",
      "  Traceback (most recent call last):\n",
      "    File \"C:\\Users\\mikda\\AppData\\Local\\Temp\\pip-build-env-_r21jras\\overlay\\Lib\\site-packages\\setuptools\\_distutils\\compilers\\C\\msvc.py\", line 554, in link\n",
      "      self.spawn([self.linker] + ld_args)\n",
      "    File \"C:\\Users\\mikda\\AppData\\Local\\Temp\\pip-build-env-_r21jras\\overlay\\Lib\\site-packages\\setuptools\\_distutils\\compilers\\C\\msvc.py\", line 563, in spawn\n",
      "      return super().spawn(cmd, env=env)\n",
      "    File \"C:\\Users\\mikda\\AppData\\Local\\Temp\\pip-build-env-_r21jras\\overlay\\Lib\\site-packages\\setuptools\\_distutils\\compilers\\C\\base.py\", line 1158, in spawn\n",
      "      spawn(cmd, dry_run=self.dry_run, **kwargs)\n",
      "    File \"C:\\Users\\mikda\\AppData\\Local\\Temp\\pip-build-env-_r21jras\\overlay\\Lib\\site-packages\\setuptools\\_distutils\\spawn.py\", line 93, in spawn\n",
      "      raise DistutilsExecError(\n",
      "  distutils.errors.DistutilsExecError: command 'C:\\\\Program Files (x86)\\\\Microsoft Visual Studio\\\\2022\\\\BuildTools\\\\VC\\\\Tools\\\\MSVC\\\\14.43.34808\\\\bin\\\\HostX86\\\\x64\\\\link.exe' failed with exit code 1181\n",
      "  \n",
      "  During handling of the above exception, another exception occurred:\n",
      "  \n",
      "  Traceback (most recent call last):\n",
      "    File \"C:\\Users\\mikda\\anaconda3\\lib\\site-packages\\pip\\_vendor\\pep517\\in_process\\_in_process.py\", line 349, in <module>\n",
      "      main()\n",
      "    File \"C:\\Users\\mikda\\anaconda3\\lib\\site-packages\\pip\\_vendor\\pep517\\in_process\\_in_process.py\", line 331, in main\n",
      "      json_out['return_val'] = hook(**hook_input['kwargs'])\n",
      "    File \"C:\\Users\\mikda\\anaconda3\\lib\\site-packages\\pip\\_vendor\\pep517\\in_process\\_in_process.py\", line 117, in get_requires_for_build_wheel\n",
      "      return hook(config_settings)\n",
      "    File \"C:\\Users\\mikda\\AppData\\Local\\Temp\\pip-build-env-_r21jras\\overlay\\Lib\\site-packages\\setuptools\\build_meta.py\", line 331, in get_requires_for_build_wheel\n",
      "      return self._get_build_requires(config_settings, requirements=[])\n",
      "    File \"C:\\Users\\mikda\\AppData\\Local\\Temp\\pip-build-env-_r21jras\\overlay\\Lib\\site-packages\\setuptools\\build_meta.py\", line 301, in _get_build_requires\n",
      "      self.run_setup()\n",
      "    File \"C:\\Users\\mikda\\AppData\\Local\\Temp\\pip-build-env-_r21jras\\overlay\\Lib\\site-packages\\setuptools\\build_meta.py\", line 317, in run_setup\n",
      "      exec(code, locals())\n",
      "    File \"<string>\", line 141, in <module>\n",
      "    File \"<string>\", line 121, in get_r_c_extension_status\n",
      "    File \"<string>\", line 82, in get_c_extension_status\n",
      "    File \"C:\\Users\\mikda\\AppData\\Local\\Temp\\pip-build-env-_r21jras\\overlay\\Lib\\site-packages\\setuptools\\_distutils\\compilers\\C\\base.py\", line 841, in link_executable\n",
      "      self.link(\n",
      "    File \"C:\\Users\\mikda\\AppData\\Local\\Temp\\pip-build-env-_r21jras\\overlay\\Lib\\site-packages\\setuptools\\_distutils\\compilers\\C\\msvc.py\", line 556, in link\n",
      "      raise LinkError(msg)\n",
      "  distutils.compilers.C.errors.LinkError: command 'C:\\\\Program Files (x86)\\\\Microsoft Visual Studio\\\\2022\\\\BuildTools\\\\VC\\\\Tools\\\\MSVC\\\\14.43.34808\\\\bin\\\\HostX86\\\\x64\\\\link.exe' failed with exit code 1181\n",
      "  ----------------------------------------\n",
      "WARNING: Discarding https://files.pythonhosted.org/packages/20/4a/2c7a3e08c4db3eb6c5fd050815b11947073997d0a521cd83c7dec1946d2e/rpy2-3.5.16.tar.gz#sha256=837e2f74583658a5c4c339761a73f9434f33ef9ced3e30c64da7562165c2801b (from https://pypi.org/simple/rpy2/) (requires-python:>=3.7). Command errored out with exit status 1: 'C:\\Users\\mikda\\anaconda3\\python.exe' 'C:\\Users\\mikda\\anaconda3\\lib\\site-packages\\pip\\_vendor\\pep517\\in_process\\_in_process.py' get_requires_for_build_wheel 'C:\\Users\\mikda\\AppData\\Local\\Temp\\tmpqpkaxbkp' Check the logs for full command output.\n",
      "  ERROR: Command errored out with exit status 1:\n",
      "   command: 'C:\\Users\\mikda\\anaconda3\\python.exe' 'C:\\Users\\mikda\\anaconda3\\lib\\site-packages\\pip\\_vendor\\pep517\\in_process\\_in_process.py' get_requires_for_build_wheel 'C:\\Users\\mikda\\AppData\\Local\\Temp\\tmp4nh1lnpc'\n",
      "       cwd: C:\\Users\\mikda\\AppData\\Local\\Temp\\pip-install-6n7q9mfl\\rpy2_ae25f7063af94b44808d78f718752dc7\n",
      "  Complete output (45 lines):\n",
      "  test_pw_r.c\n",
      "  LINK : fatal error LNK1181: cannot open input file 'R.lib'\n",
      "  Traceback (most recent call last):\n",
      "    File \"C:\\Users\\mikda\\AppData\\Local\\Temp\\pip-build-env-hbsovw9o\\overlay\\Lib\\site-packages\\setuptools\\_distutils\\spawn.py\", line 87, in spawn\n",
      "      subprocess.check_call(cmd, env=_inject_macos_ver(env))\n",
      "    File \"C:\\Users\\mikda\\anaconda3\\lib\\subprocess.py\", line 373, in check_call\n",
      "      raise CalledProcessError(retcode, cmd)\n",
      "  subprocess.CalledProcessError: Command '['C:\\\\Program Files (x86)\\\\Microsoft Visual Studio\\\\2022\\\\BuildTools\\\\VC\\\\Tools\\\\MSVC\\\\14.43.34808\\\\bin\\\\HostX86\\\\x64\\\\link.exe', '/nologo', '/INCREMENTAL:NO', '/LTCG', '/MANIFEST:EMBED,ID=1', '/LIBPATH:C:/PROGRA~1/R/R-42~1.2/bin/x64', '/LIBPATH:C:\\\\Program Files (x86)\\\\Microsoft Visual Studio\\\\2022\\\\BuildTools\\\\VC\\\\Tools\\\\MSVC\\\\14.43.34808\\\\lib\\\\x64', 'R.lib', 'm.lib', 'C:\\\\Users\\\\mikda\\\\AppData\\\\Local\\\\Temp\\\\tmp_pw_r_1svrz43x\\\\Users\\\\mikda\\\\AppData\\\\Local\\\\Temp\\\\tmp_pw_r_1svrz43x\\\\test_pw_r.obj', '/OUT:C:\\\\Users\\\\mikda\\\\AppData\\\\Local\\\\Temp\\\\tmp_pw_r_1svrz43x\\\\test_pw_r.exe']' returned non-zero exit status 1181.\n",
      "  \n",
      "  The above exception was the direct cause of the following exception:\n",
      "  \n",
      "  Traceback (most recent call last):\n",
      "    File \"C:\\Users\\mikda\\AppData\\Local\\Temp\\pip-build-env-hbsovw9o\\overlay\\Lib\\site-packages\\setuptools\\_distutils\\compilers\\C\\msvc.py\", line 554, in link\n",
      "      self.spawn([self.linker] + ld_args)\n",
      "    File \"C:\\Users\\mikda\\AppData\\Local\\Temp\\pip-build-env-hbsovw9o\\overlay\\Lib\\site-packages\\setuptools\\_distutils\\compilers\\C\\msvc.py\", line 563, in spawn\n",
      "      return super().spawn(cmd, env=env)\n",
      "    File \"C:\\Users\\mikda\\AppData\\Local\\Temp\\pip-build-env-hbsovw9o\\overlay\\Lib\\site-packages\\setuptools\\_distutils\\compilers\\C\\base.py\", line 1158, in spawn\n",
      "      spawn(cmd, dry_run=self.dry_run, **kwargs)\n",
      "    File \"C:\\Users\\mikda\\AppData\\Local\\Temp\\pip-build-env-hbsovw9o\\overlay\\Lib\\site-packages\\setuptools\\_distutils\\spawn.py\", line 93, in spawn\n",
      "      raise DistutilsExecError(\n"
     ]
    },
    {
     "name": "stderr",
     "output_type": "stream",
     "text": [
      "  distutils.errors.DistutilsExecError: command 'C:\\\\Program Files (x86)\\\\Microsoft Visual Studio\\\\2022\\\\BuildTools\\\\VC\\\\Tools\\\\MSVC\\\\14.43.34808\\\\bin\\\\HostX86\\\\x64\\\\link.exe' failed with exit code 1181\n",
      "  \n",
      "  During handling of the above exception, another exception occurred:\n",
      "  \n",
      "  Traceback (most recent call last):\n",
      "    File \"C:\\Users\\mikda\\anaconda3\\lib\\site-packages\\pip\\_vendor\\pep517\\in_process\\_in_process.py\", line 349, in <module>\n",
      "      main()\n",
      "    File \"C:\\Users\\mikda\\anaconda3\\lib\\site-packages\\pip\\_vendor\\pep517\\in_process\\_in_process.py\", line 331, in main\n",
      "      json_out['return_val'] = hook(**hook_input['kwargs'])\n",
      "    File \"C:\\Users\\mikda\\anaconda3\\lib\\site-packages\\pip\\_vendor\\pep517\\in_process\\_in_process.py\", line 117, in get_requires_for_build_wheel\n",
      "      return hook(config_settings)\n",
      "    File \"C:\\Users\\mikda\\AppData\\Local\\Temp\\pip-build-env-hbsovw9o\\overlay\\Lib\\site-packages\\setuptools\\build_meta.py\", line 331, in get_requires_for_build_wheel\n",
      "      return self._get_build_requires(config_settings, requirements=[])\n",
      "    File \"C:\\Users\\mikda\\AppData\\Local\\Temp\\pip-build-env-hbsovw9o\\overlay\\Lib\\site-packages\\setuptools\\build_meta.py\", line 301, in _get_build_requires\n",
      "      self.run_setup()\n",
      "    File \"C:\\Users\\mikda\\AppData\\Local\\Temp\\pip-build-env-hbsovw9o\\overlay\\Lib\\site-packages\\setuptools\\build_meta.py\", line 317, in run_setup\n",
      "      exec(code, locals())\n",
      "    File \"<string>\", line 141, in <module>\n",
      "    File \"<string>\", line 121, in get_r_c_extension_status\n",
      "    File \"<string>\", line 82, in get_c_extension_status\n",
      "    File \"C:\\Users\\mikda\\AppData\\Local\\Temp\\pip-build-env-hbsovw9o\\overlay\\Lib\\site-packages\\setuptools\\_distutils\\compilers\\C\\base.py\", line 841, in link_executable\n",
      "      self.link(\n",
      "    File \"C:\\Users\\mikda\\AppData\\Local\\Temp\\pip-build-env-hbsovw9o\\overlay\\Lib\\site-packages\\setuptools\\_distutils\\compilers\\C\\msvc.py\", line 556, in link\n",
      "      raise LinkError(msg)\n",
      "  distutils.compilers.C.errors.LinkError: command 'C:\\\\Program Files (x86)\\\\Microsoft Visual Studio\\\\2022\\\\BuildTools\\\\VC\\\\Tools\\\\MSVC\\\\14.43.34808\\\\bin\\\\HostX86\\\\x64\\\\link.exe' failed with exit code 1181\n",
      "  ----------------------------------------\n",
      "WARNING: Discarding https://files.pythonhosted.org/packages/2e/28/8d26eee985eabc9e14ab549f97da7dae99c48e46bf274a39696a867f2e34/rpy2-3.5.15.tar.gz#sha256=444fae4a84dc7f233b70eaab0aa81398ee0147c4e1ae38dd4524d779d6f25b2b (from https://pypi.org/simple/rpy2/) (requires-python:>=3.7). Command errored out with exit status 1: 'C:\\Users\\mikda\\anaconda3\\python.exe' 'C:\\Users\\mikda\\anaconda3\\lib\\site-packages\\pip\\_vendor\\pep517\\in_process\\_in_process.py' get_requires_for_build_wheel 'C:\\Users\\mikda\\AppData\\Local\\Temp\\tmp4nh1lnpc' Check the logs for full command output.\n",
      "  ERROR: Command errored out with exit status 1:\n",
      "   command: 'C:\\Users\\mikda\\anaconda3\\python.exe' 'C:\\Users\\mikda\\anaconda3\\lib\\site-packages\\pip\\_vendor\\pep517\\in_process\\_in_process.py' get_requires_for_build_wheel 'C:\\Users\\mikda\\AppData\\Local\\Temp\\tmp_kgk6gg1'\n",
      "       cwd: C:\\Users\\mikda\\AppData\\Local\\Temp\\pip-install-6n7q9mfl\\rpy2_a928ee573aa94371801718eb42144f6b\n",
      "  Complete output (45 lines):\n",
      "  test_pw_r.c\n",
      "  LINK : fatal error LNK1181: cannot open input file 'R.lib'\n",
      "  Traceback (most recent call last):\n",
      "    File \"C:\\Users\\mikda\\AppData\\Local\\Temp\\pip-build-env-v9j3bhgf\\overlay\\Lib\\site-packages\\setuptools\\_distutils\\spawn.py\", line 87, in spawn\n",
      "      subprocess.check_call(cmd, env=_inject_macos_ver(env))\n",
      "    File \"C:\\Users\\mikda\\anaconda3\\lib\\subprocess.py\", line 373, in check_call\n",
      "      raise CalledProcessError(retcode, cmd)\n",
      "  subprocess.CalledProcessError: Command '['C:\\\\Program Files (x86)\\\\Microsoft Visual Studio\\\\2022\\\\BuildTools\\\\VC\\\\Tools\\\\MSVC\\\\14.43.34808\\\\bin\\\\HostX86\\\\x64\\\\link.exe', '/nologo', '/INCREMENTAL:NO', '/LTCG', '/MANIFEST:EMBED,ID=1', '/LIBPATH:C:/PROGRA~1/R/R-42~1.2/bin/x64', '/LIBPATH:C:\\\\Program Files (x86)\\\\Microsoft Visual Studio\\\\2022\\\\BuildTools\\\\VC\\\\Tools\\\\MSVC\\\\14.43.34808\\\\lib\\\\x64', 'R.lib', 'm.lib', 'C:\\\\Users\\\\mikda\\\\AppData\\\\Local\\\\Temp\\\\tmp_pw_r_kz8_tup9\\\\Users\\\\mikda\\\\AppData\\\\Local\\\\Temp\\\\tmp_pw_r_kz8_tup9\\\\test_pw_r.obj', '/OUT:C:\\\\Users\\\\mikda\\\\AppData\\\\Local\\\\Temp\\\\tmp_pw_r_kz8_tup9\\\\test_pw_r.exe']' returned non-zero exit status 1181.\n",
      "  \n",
      "  The above exception was the direct cause of the following exception:\n",
      "  \n",
      "  Traceback (most recent call last):\n",
      "    File \"C:\\Users\\mikda\\AppData\\Local\\Temp\\pip-build-env-v9j3bhgf\\overlay\\Lib\\site-packages\\setuptools\\_distutils\\compilers\\C\\msvc.py\", line 554, in link\n",
      "      self.spawn([self.linker] + ld_args)\n",
      "    File \"C:\\Users\\mikda\\AppData\\Local\\Temp\\pip-build-env-v9j3bhgf\\overlay\\Lib\\site-packages\\setuptools\\_distutils\\compilers\\C\\msvc.py\", line 563, in spawn\n",
      "      return super().spawn(cmd, env=env)\n",
      "    File \"C:\\Users\\mikda\\AppData\\Local\\Temp\\pip-build-env-v9j3bhgf\\overlay\\Lib\\site-packages\\setuptools\\_distutils\\compilers\\C\\base.py\", line 1158, in spawn\n",
      "      spawn(cmd, dry_run=self.dry_run, **kwargs)\n",
      "    File \"C:\\Users\\mikda\\AppData\\Local\\Temp\\pip-build-env-v9j3bhgf\\overlay\\Lib\\site-packages\\setuptools\\_distutils\\spawn.py\", line 93, in spawn\n",
      "      raise DistutilsExecError(\n",
      "  distutils.errors.DistutilsExecError: command 'C:\\\\Program Files (x86)\\\\Microsoft Visual Studio\\\\2022\\\\BuildTools\\\\VC\\\\Tools\\\\MSVC\\\\14.43.34808\\\\bin\\\\HostX86\\\\x64\\\\link.exe' failed with exit code 1181\n",
      "  \n",
      "  During handling of the above exception, another exception occurred:\n",
      "  \n",
      "  Traceback (most recent call last):\n",
      "    File \"C:\\Users\\mikda\\anaconda3\\lib\\site-packages\\pip\\_vendor\\pep517\\in_process\\_in_process.py\", line 349, in <module>\n",
      "      main()\n",
      "    File \"C:\\Users\\mikda\\anaconda3\\lib\\site-packages\\pip\\_vendor\\pep517\\in_process\\_in_process.py\", line 331, in main\n",
      "      json_out['return_val'] = hook(**hook_input['kwargs'])\n",
      "    File \"C:\\Users\\mikda\\anaconda3\\lib\\site-packages\\pip\\_vendor\\pep517\\in_process\\_in_process.py\", line 117, in get_requires_for_build_wheel\n",
      "      return hook(config_settings)\n",
      "    File \"C:\\Users\\mikda\\AppData\\Local\\Temp\\pip-build-env-v9j3bhgf\\overlay\\Lib\\site-packages\\setuptools\\build_meta.py\", line 331, in get_requires_for_build_wheel\n",
      "      return self._get_build_requires(config_settings, requirements=[])\n",
      "    File \"C:\\Users\\mikda\\AppData\\Local\\Temp\\pip-build-env-v9j3bhgf\\overlay\\Lib\\site-packages\\setuptools\\build_meta.py\", line 301, in _get_build_requires\n",
      "      self.run_setup()\n",
      "    File \"C:\\Users\\mikda\\AppData\\Local\\Temp\\pip-build-env-v9j3bhgf\\overlay\\Lib\\site-packages\\setuptools\\build_meta.py\", line 317, in run_setup\n",
      "      exec(code, locals())\n",
      "    File \"<string>\", line 137, in <module>\n",
      "    File \"<string>\", line 117, in get_r_c_extension_status\n",
      "    File \"<string>\", line 82, in get_c_extension_status\n",
      "    File \"C:\\Users\\mikda\\AppData\\Local\\Temp\\pip-build-env-v9j3bhgf\\overlay\\Lib\\site-packages\\setuptools\\_distutils\\compilers\\C\\base.py\", line 841, in link_executable\n",
      "      self.link(\n",
      "    File \"C:\\Users\\mikda\\AppData\\Local\\Temp\\pip-build-env-v9j3bhgf\\overlay\\Lib\\site-packages\\setuptools\\_distutils\\compilers\\C\\msvc.py\", line 556, in link\n",
      "      raise LinkError(msg)\n",
      "  distutils.compilers.C.errors.LinkError: command 'C:\\\\Program Files (x86)\\\\Microsoft Visual Studio\\\\2022\\\\BuildTools\\\\VC\\\\Tools\\\\MSVC\\\\14.43.34808\\\\bin\\\\HostX86\\\\x64\\\\link.exe' failed with exit code 1181\n",
      "  ----------------------------------------\n",
      "WARNING: Discarding https://files.pythonhosted.org/packages/30/dc/d9748ec2b61b6a1fcbaff3891961297c83cfa34c9f9984761fb6f6ae65d0/rpy2-3.5.14.tar.gz#sha256=5f46ae31d36e117be366ad4ae02493c015ac6ba59ebe3b4cd7200075332fc481 (from https://pypi.org/simple/rpy2/) (requires-python:>=3.7). Command errored out with exit status 1: 'C:\\Users\\mikda\\anaconda3\\python.exe' 'C:\\Users\\mikda\\anaconda3\\lib\\site-packages\\pip\\_vendor\\pep517\\in_process\\_in_process.py' get_requires_for_build_wheel 'C:\\Users\\mikda\\AppData\\Local\\Temp\\tmp_kgk6gg1' Check the logs for full command output.\n",
      "  ERROR: Command errored out with exit status 1:\n",
      "   command: 'C:\\Users\\mikda\\anaconda3\\python.exe' 'C:\\Users\\mikda\\anaconda3\\lib\\site-packages\\pip\\_vendor\\pep517\\in_process\\_in_process.py' get_requires_for_build_wheel 'C:\\Users\\mikda\\AppData\\Local\\Temp\\tmp9d3sh8is'\n",
      "       cwd: C:\\Users\\mikda\\AppData\\Local\\Temp\\pip-install-6n7q9mfl\\rpy2_ddde709fac024a37a0dd050806bd2f93\n",
      "  Complete output (45 lines):\n",
      "  test_pw_r.c\n",
      "  LINK : fatal error LNK1181: cannot open input file 'R.lib'\n",
      "  Traceback (most recent call last):\n",
      "    File \"C:\\Users\\mikda\\AppData\\Local\\Temp\\pip-build-env-5kox7iif\\overlay\\Lib\\site-packages\\setuptools\\_distutils\\spawn.py\", line 87, in spawn\n",
      "      subprocess.check_call(cmd, env=_inject_macos_ver(env))\n",
      "    File \"C:\\Users\\mikda\\anaconda3\\lib\\subprocess.py\", line 373, in check_call\n",
      "      raise CalledProcessError(retcode, cmd)\n",
      "  subprocess.CalledProcessError: Command '['C:\\\\Program Files (x86)\\\\Microsoft Visual Studio\\\\2022\\\\BuildTools\\\\VC\\\\Tools\\\\MSVC\\\\14.43.34808\\\\bin\\\\HostX86\\\\x64\\\\link.exe', '/nologo', '/INCREMENTAL:NO', '/LTCG', '/MANIFEST:EMBED,ID=1', '/LIBPATH:C:/PROGRA~1/R/R-42~1.2/bin/x64', '/LIBPATH:C:\\\\Program Files (x86)\\\\Microsoft Visual Studio\\\\2022\\\\BuildTools\\\\VC\\\\Tools\\\\MSVC\\\\14.43.34808\\\\lib\\\\x64', 'R.lib', 'm.lib', 'C:\\\\Users\\\\mikda\\\\AppData\\\\Local\\\\Temp\\\\tmp_pw_r_psd8gbxm\\\\Users\\\\mikda\\\\AppData\\\\Local\\\\Temp\\\\tmp_pw_r_psd8gbxm\\\\test_pw_r.obj', '/OUT:C:\\\\Users\\\\mikda\\\\AppData\\\\Local\\\\Temp\\\\tmp_pw_r_psd8gbxm\\\\test_pw_r.exe']' returned non-zero exit status 1181.\n",
      "  \n",
      "  The above exception was the direct cause of the following exception:\n",
      "  \n",
      "  Traceback (most recent call last):\n",
      "    File \"C:\\Users\\mikda\\AppData\\Local\\Temp\\pip-build-env-5kox7iif\\overlay\\Lib\\site-packages\\setuptools\\_distutils\\compilers\\C\\msvc.py\", line 554, in link\n",
      "      self.spawn([self.linker] + ld_args)\n",
      "    File \"C:\\Users\\mikda\\AppData\\Local\\Temp\\pip-build-env-5kox7iif\\overlay\\Lib\\site-packages\\setuptools\\_distutils\\compilers\\C\\msvc.py\", line 563, in spawn\n",
      "      return super().spawn(cmd, env=env)\n",
      "    File \"C:\\Users\\mikda\\AppData\\Local\\Temp\\pip-build-env-5kox7iif\\overlay\\Lib\\site-packages\\setuptools\\_distutils\\compilers\\C\\base.py\", line 1158, in spawn\n",
      "      spawn(cmd, dry_run=self.dry_run, **kwargs)\n"
     ]
    },
    {
     "name": "stderr",
     "output_type": "stream",
     "text": [
      "    File \"C:\\Users\\mikda\\AppData\\Local\\Temp\\pip-build-env-5kox7iif\\overlay\\Lib\\site-packages\\setuptools\\_distutils\\spawn.py\", line 93, in spawn\n",
      "      raise DistutilsExecError(\n",
      "  distutils.errors.DistutilsExecError: command 'C:\\\\Program Files (x86)\\\\Microsoft Visual Studio\\\\2022\\\\BuildTools\\\\VC\\\\Tools\\\\MSVC\\\\14.43.34808\\\\bin\\\\HostX86\\\\x64\\\\link.exe' failed with exit code 1181\n",
      "  \n",
      "  During handling of the above exception, another exception occurred:\n",
      "  \n",
      "  Traceback (most recent call last):\n",
      "    File \"C:\\Users\\mikda\\anaconda3\\lib\\site-packages\\pip\\_vendor\\pep517\\in_process\\_in_process.py\", line 349, in <module>\n",
      "      main()\n",
      "    File \"C:\\Users\\mikda\\anaconda3\\lib\\site-packages\\pip\\_vendor\\pep517\\in_process\\_in_process.py\", line 331, in main\n",
      "      json_out['return_val'] = hook(**hook_input['kwargs'])\n",
      "    File \"C:\\Users\\mikda\\anaconda3\\lib\\site-packages\\pip\\_vendor\\pep517\\in_process\\_in_process.py\", line 117, in get_requires_for_build_wheel\n",
      "      return hook(config_settings)\n",
      "    File \"C:\\Users\\mikda\\AppData\\Local\\Temp\\pip-build-env-5kox7iif\\overlay\\Lib\\site-packages\\setuptools\\build_meta.py\", line 331, in get_requires_for_build_wheel\n",
      "      return self._get_build_requires(config_settings, requirements=[])\n",
      "    File \"C:\\Users\\mikda\\AppData\\Local\\Temp\\pip-build-env-5kox7iif\\overlay\\Lib\\site-packages\\setuptools\\build_meta.py\", line 301, in _get_build_requires\n",
      "      self.run_setup()\n",
      "    File \"C:\\Users\\mikda\\AppData\\Local\\Temp\\pip-build-env-5kox7iif\\overlay\\Lib\\site-packages\\setuptools\\build_meta.py\", line 317, in run_setup\n",
      "      exec(code, locals())\n",
      "    File \"<string>\", line 124, in <module>\n",
      "    File \"<string>\", line 118, in get_r_c_extension_status\n",
      "    File \"<string>\", line 81, in get_c_extension_status\n",
      "    File \"C:\\Users\\mikda\\AppData\\Local\\Temp\\pip-build-env-5kox7iif\\overlay\\Lib\\site-packages\\setuptools\\_distutils\\compilers\\C\\base.py\", line 841, in link_executable\n",
      "      self.link(\n",
      "    File \"C:\\Users\\mikda\\AppData\\Local\\Temp\\pip-build-env-5kox7iif\\overlay\\Lib\\site-packages\\setuptools\\_distutils\\compilers\\C\\msvc.py\", line 556, in link\n",
      "      raise LinkError(msg)\n",
      "  distutils.compilers.C.errors.LinkError: command 'C:\\\\Program Files (x86)\\\\Microsoft Visual Studio\\\\2022\\\\BuildTools\\\\VC\\\\Tools\\\\MSVC\\\\14.43.34808\\\\bin\\\\HostX86\\\\x64\\\\link.exe' failed with exit code 1181\n",
      "  ----------------------------------------\n",
      "WARNING: Discarding https://files.pythonhosted.org/packages/55/43/d11bbc1e87383e8a01d74022182bc292011760a2f23c449d2c04dc1b794e/rpy2-3.5.13.tar.gz#sha256=41d037599f54336f54e754d82853fae06be9438d9fb3b514d90da74eaf328ddd (from https://pypi.org/simple/rpy2/) (requires-python:>=3.7). Command errored out with exit status 1: 'C:\\Users\\mikda\\anaconda3\\python.exe' 'C:\\Users\\mikda\\anaconda3\\lib\\site-packages\\pip\\_vendor\\pep517\\in_process\\_in_process.py' get_requires_for_build_wheel 'C:\\Users\\mikda\\AppData\\Local\\Temp\\tmp9d3sh8is' Check the logs for full command output.\n"
     ]
    }
   ],
   "source": [
    "pip install rpy2\n"
   ]
  },
  {
   "cell_type": "code",
   "execution_count": 14,
   "id": "190172da",
   "metadata": {},
   "outputs": [
    {
     "name": "stderr",
     "output_type": "stream",
     "text": [
      "R[write to console]: Error in load(\"m1.RDS\") : \n",
      "  bad restore file magic number (file may be corrupted) -- no data loaded\n",
      "\n",
      "R[write to console]: In addition: \n",
      "R[write to console]: Warning messages:\n",
      "\n",
      "R[write to console]: 1: \n",
      "R[write to console]: In readChar(con, 5L, useBytes = TRUE) :\n",
      "R[write to console]: \n",
      " \n",
      "R[write to console]:  truncating string with embedded nuls\n",
      "\n",
      "R[write to console]: 2: file 'm1.RDS' has magic number 'X'\n",
      "  Use of save versions prior to 2 is deprecated \n",
      "\n"
     ]
    },
    {
     "ename": "RRuntimeError",
     "evalue": "Error in load(\"m1.RDS\") : \n  bad restore file magic number (file may be corrupted) -- no data loaded\n",
     "output_type": "error",
     "traceback": [
      "\u001b[1;31m---------------------------------------------------------------------------\u001b[0m",
      "\u001b[1;31mRRuntimeError\u001b[0m                             Traceback (most recent call last)",
      "Input \u001b[1;32mIn [14]\u001b[0m, in \u001b[0;36m<cell line: 6>\u001b[1;34m()\u001b[0m\n\u001b[0;32m      3\u001b[0m rpy2\u001b[38;5;241m.\u001b[39mrobjects\u001b[38;5;241m.\u001b[39mpandas2ri\u001b[38;5;241m.\u001b[39mactivate()\n\u001b[0;32m      5\u001b[0m \u001b[38;5;66;03m# Load your R model in Python\u001b[39;00m\n\u001b[1;32m----> 6\u001b[0m \u001b[43mro\u001b[49m\u001b[38;5;241;43m.\u001b[39;49m\u001b[43mr\u001b[49m\u001b[43m(\u001b[49m\u001b[38;5;124;43m'\u001b[39;49m\u001b[38;5;124;43mload(\u001b[39;49m\u001b[38;5;124;43m\"\u001b[39;49m\u001b[38;5;124;43mm1.RDS\u001b[39;49m\u001b[38;5;124;43m\"\u001b[39;49m\u001b[38;5;124;43m)\u001b[39;49m\u001b[38;5;124;43m'\u001b[39;49m\u001b[43m)\u001b[49m\n\u001b[0;32m      8\u001b[0m \u001b[38;5;66;03m# Now you can make predictions using the R model\u001b[39;00m\n\u001b[0;32m      9\u001b[0m model \u001b[38;5;241m=\u001b[39m ro\u001b[38;5;241m.\u001b[39mr[\u001b[38;5;124m'\u001b[39m\u001b[38;5;124mrf_model\u001b[39m\u001b[38;5;124m'\u001b[39m]\n",
      "File \u001b[1;32m~\\anaconda3\\lib\\site-packages\\rpy2\\robjects\\__init__.py:501\u001b[0m, in \u001b[0;36mR.__call__\u001b[1;34m(self, string, invisible, print_r_warnings)\u001b[0m\n\u001b[0;32m    499\u001b[0m     invisible \u001b[38;5;241m=\u001b[39m \u001b[38;5;28mself\u001b[39m\u001b[38;5;241m.\u001b[39m_invisible\n\u001b[0;32m    500\u001b[0m \u001b[38;5;28;01mif\u001b[39;00m invisible:\n\u001b[1;32m--> 501\u001b[0m     res, visible \u001b[38;5;241m=\u001b[39m \u001b[43mrinterface\u001b[49m\u001b[38;5;241;43m.\u001b[39;49m\u001b[43mevalr_expr_with_visible\u001b[49m\u001b[43m(\u001b[49m\u001b[43m   \u001b[49m\u001b[38;5;66;43;03m# type: ignore\u001b[39;49;00m\n\u001b[0;32m    502\u001b[0m \u001b[43m        \u001b[49m\u001b[43mr_expr\u001b[49m\n\u001b[0;32m    503\u001b[0m \u001b[43m    \u001b[49m\u001b[43m)\u001b[49m\n\u001b[0;32m    504\u001b[0m     \u001b[38;5;28;01mif\u001b[39;00m \u001b[38;5;129;01mnot\u001b[39;00m visible[\u001b[38;5;241m0\u001b[39m]:  \u001b[38;5;66;03m# type: ignore\u001b[39;00m\n\u001b[0;32m    505\u001b[0m         res \u001b[38;5;241m=\u001b[39m \u001b[38;5;28;01mNone\u001b[39;00m\n",
      "File \u001b[1;32m~\\anaconda3\\lib\\site-packages\\rpy2\\rinterface.py:183\u001b[0m, in \u001b[0;36mevalr_expr_with_visible\u001b[1;34m(expr, envir)\u001b[0m\n\u001b[0;32m    176\u001b[0m r_res \u001b[38;5;241m=\u001b[39m rmemory\u001b[38;5;241m.\u001b[39mprotect(\n\u001b[0;32m    177\u001b[0m         openrlib\u001b[38;5;241m.\u001b[39mrlib\u001b[38;5;241m.\u001b[39mR_tryEval(\n\u001b[0;32m    178\u001b[0m             r_call,\n\u001b[0;32m    179\u001b[0m             envir\u001b[38;5;241m.\u001b[39m__sexp__\u001b[38;5;241m.\u001b[39m_cdata,  \u001b[38;5;66;03m# call context.\u001b[39;00m\n\u001b[0;32m    180\u001b[0m             error_occured)\n\u001b[0;32m    181\u001b[0m )\n\u001b[0;32m    182\u001b[0m \u001b[38;5;28;01mif\u001b[39;00m error_occured[\u001b[38;5;241m0\u001b[39m]:\n\u001b[1;32m--> 183\u001b[0m     \u001b[38;5;28;01mraise\u001b[39;00m embedded\u001b[38;5;241m.\u001b[39mRRuntimeError(_rinterface\u001b[38;5;241m.\u001b[39m_geterrmessage())\n\u001b[0;32m    184\u001b[0m res \u001b[38;5;241m=\u001b[39m conversion\u001b[38;5;241m.\u001b[39m_cdata_to_rinterface(r_res)\n\u001b[0;32m    185\u001b[0m \u001b[38;5;28;01massert\u001b[39;00m \u001b[38;5;28misinstance\u001b[39m(res, ListSexpVector)\n",
      "\u001b[1;31mRRuntimeError\u001b[0m: Error in load(\"m1.RDS\") : \n  bad restore file magic number (file may be corrupted) -- no data loaded\n"
     ]
    }
   ],
   "source": [
    "import rpy2.robjects as ro\n",
    "import rpy2.robjects.pandas2ri\n",
    "rpy2.robjects.pandas2ri.activate()\n",
    "\n",
    "# Load your R model in Python\n",
    "ro.r('load(\"m1.RDS\")')\n",
    "\n",
    "# Now you can make predictions using the R model\n",
    "model = ro.r['rf_model']  # Assuming your model is stored in this variable in R\n",
    "\n",
    "# # Prepare your input data (assuming it is a pandas DataFrame)\n",
    "# import pandas as pd\n",
    "# data = pd.DataFrame({'feature1': [value1], 'feature2': [value2]})\n",
    "\n",
    "# # Convert the pandas DataFrame to R DataFrame\n",
    "# r_data = rpy2.robjects.pandas2ri.py2ri(data)\n",
    "\n",
    "# # Make predictions using the R model\n",
    "# predictions = model.predict(r_data)\n",
    "\n",
    "# # Convert the result back to Python\n",
    "# predictions = list(predictions)\n",
    "# print(predictions)\n"
   ]
  },
  {
   "cell_type": "code",
   "execution_count": 16,
   "id": "d4f7f553",
   "metadata": {},
   "outputs": [
    {
     "name": "stdout",
     "output_type": "stream",
     "text": [
      "               _                                \n",
      "platform       x86_64-w64-mingw32               \n",
      "arch           x86_64                           \n",
      "os             mingw32                          \n",
      "crt            ucrt                             \n",
      "system         x86_64, mingw32                  \n",
      "status                                          \n",
      "major          4                                \n",
      "minor          2.2                              \n",
      "year           2022                             \n",
      "month          10                               \n",
      "day            31                               \n",
      "svn rev        83211                            \n",
      "language       R                                \n",
      "version.string R version 4.2.2 (2022-10-31 ucrt)\n",
      "nickname       Innocent and Trusting            \n",
      "\n"
     ]
    }
   ],
   "source": [
    "import rpy2.robjects as ro\n",
    "print(ro.r['R.version'])"
   ]
  },
  {
   "cell_type": "code",
   "execution_count": null,
   "id": "b61509b5",
   "metadata": {},
   "outputs": [],
   "source": []
  }
 ],
 "metadata": {
  "kernelspec": {
   "display_name": "Python 3 (ipykernel)",
   "language": "python",
   "name": "python3"
  },
  "language_info": {
   "codemirror_mode": {
    "name": "ipython",
    "version": 3
   },
   "file_extension": ".py",
   "mimetype": "text/x-python",
   "name": "python",
   "nbconvert_exporter": "python",
   "pygments_lexer": "ipython3",
   "version": "3.9.12"
  }
 },
 "nbformat": 4,
 "nbformat_minor": 5
}
