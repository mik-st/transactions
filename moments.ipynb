{
 "cells": [
  {
   "cell_type": "code",
   "execution_count": null,
   "id": "50c95126",
   "metadata": {},
   "outputs": [],
   "source": [
    "#the output is a df moments with two cols, moment and type. Type indicates whether it is a monthly expenses or not \n",
    "#the number of moemnts should the number of transactions ( other than monthly expenses)\n",
    "#so if you want to edit the nr transactions: edit it in this notebook"
   ]
  },
  {
   "cell_type": "code",
   "execution_count": 43,
   "id": "4762c004-e26d-4d04-b258-758d1bc2161d",
   "metadata": {},
   "outputs": [],
   "source": [
    "import pandas as pd\n",
    "import numpy as np\n",
    "import random\n",
    "from datetime import timedelta\n",
    "\n",
    "import pandas as pd\n",
    "import numpy as np\n",
    "import openpyxl\n",
    "import matplotlib.pyplot as plt\n",
    "import datetime\n",
    "pd.set_option('display.max_rows', None)\n",
    "pd.set_option('display.max_columns', None)\n",
    " \n",
    "pd.set_option('display.width', None)\n",
    " "
   ]
  },
  {
   "cell_type": "code",
   "execution_count": 44,
   "id": "558133da-74a1-4f84-9099-0bab645efba8",
   "metadata": {},
   "outputs": [],
   "source": [
    "\n",
    "#the purpoes is to build a function that takes start_date, end_date, excpetions for weights >>> return a complete df with final weights for each hour\n",
    "#this final weight will be used later to decide the number of transactions at that hour i.e. to devide the total nr and allocate it to each hour\n",
    "# \n",
    "\n",
    "def create_hourly_dataframe(start_date, end_date, \n",
    "                            years=[], years_weights=[], \n",
    "                            months=[], months_weights=[], \n",
    "                            days=[], days_weights=[], \n",
    "                            hours=[], hours_weights=[], \n",
    "                            day_of_weeks=[], day_of_weeks_weights=[], \n",
    "                            default_weight=1, \n",
    "                           category=''):\n",
    "    # Generate a date range with hourly frequency\n",
    "    date_range = pd.date_range(start=start_date, end=end_date, freq='H')\n",
    "\n",
    "    # Create a DataFrame with the date range\n",
    "    df = pd.DataFrame(date_range, columns=['datetime'])\n",
    "\n",
    "    # Add columns for year, month, day_of_week (name), day, and hour\n",
    "    df['year'] = df['datetime'].dt.year\n",
    "    df['month'] = df['datetime'].dt.month\n",
    "    df['day_of_week'] = df['datetime'].dt.day_name()\n",
    "    df['day'] = df['datetime'].dt.day\n",
    "    df['hour'] = df['datetime'].dt.hour\n",
    "    df['category']= category\n",
    "\n",
    "    # Initialize weight columns with default weight\n",
    "    df['year_weight'] = default_weight\n",
    "    df['month_weight'] = default_weight\n",
    "    df['day_weight'] = default_weight\n",
    "    df['hour_weight'] = default_weight\n",
    "    df['day_of_week_weight'] = default_weight\n",
    "     \n",
    "\n",
    "    # Adjust weights based on specified arguments\n",
    "    if years and years_weights:\n",
    "        for year, weight in zip(years, years_weights):\n",
    "            df.loc[df['year'] == year, 'year_weight'] = weight\n",
    "\n",
    "    if months and months_weights:\n",
    "        for month, weight in zip(months, months_weights):\n",
    "            df.loc[df['month'] == month, 'month_weight'] = weight\n",
    "\n",
    "    if days and days_weights:\n",
    "        for day, weight in zip(days, days_weights):\n",
    "            df.loc[df['day'] == day, 'day_weight'] = weight\n",
    "\n",
    "    if hours and hours_weights:\n",
    "        for hour, weight in zip(hours, hours_weights):\n",
    "            df.loc[df['hour'] == hour, 'hour_weight'] = weight\n",
    "\n",
    "    if day_of_weeks and day_of_weeks_weights:\n",
    "        for day_of_week, weight in zip(day_of_weeks, day_of_weeks_weights):\n",
    "            df.loc[df['day_of_week'] == day_of_week, 'day_of_week_weight'] = weight\n",
    "\n",
    "    \n",
    "    df['final_weight'] = (df['year_weight'] * df['month_weight'] * \n",
    "                          df['day_weight'] * df['hour_weight'] * \n",
    "                          df['day_of_week_weight'])\n",
    "    return df\n",
    "\n",
    "# Example usage\n",
    "\n",
    "# start_date = '2024-01-01'\n",
    "# end_date = '2024-01-2'\n",
    " \n",
    "# df = create_hourly_dataframe(start_date, end_date,\n",
    "#                              years=[2023], years_weights=[3],\n",
    "#                              months=[1], months_weights=[2],\n",
    "#                              days=[1], days_weights=[3],\n",
    "#                              hours=[0, 1], hours_weights=[2, 3],\n",
    "#                              day_of_weeks=['Sunday', 'Tuesday'], day_of_weeks_weights=[4,8],\n",
    "#                              default_weight=1)\n",
    "# df\n",
    "\n",
    "\n",
    "\n"
   ]
  },
  {
   "cell_type": "code",
   "execution_count": 45,
   "id": "f089870f",
   "metadata": {},
   "outputs": [],
   "source": [
    "#takes a df with cols nr_transactions_per_hour and datetime, returns a new df of one col, moments \n",
    "#which is randomly generated moments for each hour, nr of those moments is the nr_transactions_per_hour\n",
    "def generate_random_moments(df):\n",
    "     \n",
    "    all_times = []\n",
    "\n",
    "    for _, row in df.iterrows():\n",
    "        hour_start = pd.to_datetime(row['datetime']).replace(minute=0, second=0, microsecond=0)\n",
    "        num_transactions = int(np.ceil(row['nr_transactions_per_hour']))  # round up to int\n",
    "\n",
    "        for _ in range(num_transactions):\n",
    "            random_seconds = random.randint(0, 3599)\n",
    "            random_time = hour_start + timedelta(seconds=random_seconds)\n",
    "            all_times.append(random_time)\n",
    "\n",
    "    # Create a DataFrame with one column, sorted\n",
    "    result_df = pd.DataFrame({'moment': sorted(all_times)})\n",
    "\n",
    "    return result_df\n",
    "\n",
    "\n",
    "# result_df = generate_random_moments(df)\n",
    "# print(result_df)"
   ]
  },
  {
   "cell_type": "code",
   "execution_count": 76,
   "id": "875ef176",
   "metadata": {},
   "outputs": [
    {
     "data": {
      "text/plain": [
       "53957"
      ]
     },
     "execution_count": 76,
     "metadata": {},
     "output_type": "execute_result"
    }
   ],
   "source": [
    "#final_moments\n",
    "\n",
    "\n",
    "#here, specify which years, months, days or hours you want to put extra weight on\n",
    "\n",
    "start_date = '2024-01-01'\n",
    "end_date = '2025-01-21'\n",
    " \n",
    "hourly_df = create_hourly_dataframe(start_date, end_date,\n",
    "                             years=[2024, 2025], years_weights=[2,1],\n",
    "                             months=[5,6,7,12], months_weights=[2 ,2,2,3],\n",
    "                             days=[1,2,3,4], days_weights=[3,2,3,2],\n",
    "                             hours=[8,9,10,11,12], hours_weights=[2, 3,3,2,3],\n",
    "                             day_of_weeks=['Monday', 'Friday' , 'Saturday'], day_of_weeks_weights=[2,2,2],\n",
    "                             default_weight=1)\n",
    "\n",
    "#note, this number is just an estimation, because of rounding, you will get a different final total_nr_transactions \n",
    "initial_nr_transactions=50000\n",
    "\n",
    "unit_weight=initial_nr_transactions /  hourly_df.final_weight.sum()  \n",
    " \n",
    "hourly_df ['nr_transactions_per_hour']=   unit_weight*  hourly_df ['final_weight'] \n",
    "hourly_df ['nr_transactions_per_hour']=np.ceil(hourly_df['nr_transactions_per_hour']).astype(int) \n",
    "\n",
    "moments =  generate_random_moments(hourly_df)\n",
    "len (moments)\n",
    " \n"
   ]
  },
  {
   "cell_type": "code",
   "execution_count": 77,
   "id": "f82d59f2",
   "metadata": {},
   "outputs": [
    {
     "data": {
      "image/png": "[encoded data removed]",
      "text/plain": [
       "<Figure size 720x360 with 1 Axes>"
      ]
     },
     "metadata": {
      "needs_background": "light"
     },
     "output_type": "display_data"
    }
   ],
   "source": [
    "#plotting nr transaction per month in that period just to see the trends:\n",
    "monthly_counts = moments['moment'].dt.to_period('M').value_counts().sort_index()\n",
    "monthly_counts = moments.set_index('moment').resample('M').size()\n",
    "\n",
    "plt.figure(figsize=(10, 5))\n",
    "monthly_counts.plot(kind='line', marker='o')\n",
    "plt.title('Moments per Month')\n",
    "plt.xlabel('Month')\n",
    "plt.ylabel('Number of Moments')\n",
    "plt.grid(True)\n",
    "plt.tight_layout()\n",
    "plt.show()"
   ]
  },
  {
   "cell_type": "code",
   "execution_count": 78,
   "id": "6e02f59d",
   "metadata": {},
   "outputs": [
    {
     "name": "stderr",
     "output_type": "stream",
     "text": [
      "C:\\Users\\mikda\\AppData\\Local\\Temp\\ipykernel_7364\\14189587.py:12: SettingWithCopyWarning: \n",
      "A value is trying to be set on a copy of a slice from a DataFrame.\n",
      "Try using .loc[row_indexer,col_indexer] = value instead\n",
      "\n",
      "See the caveats in the documentation: https://pandas.pydata.org/pandas-docs/stable/user_guide/indexing.html#returning-a-view-versus-a-copy\n",
      "  first_day_moments['type'] = 'monthly'\n"
     ]
    },
    {
     "data": {
      "text/html": [
       "<div>\n",
       "<style scoped>\n",
       "    .dataframe tbody tr th:only-of-type {\n",
       "        vertical-align: middle;\n",
       "    }\n",
       "\n",
       "    .dataframe tbody tr th {\n",
       "        vertical-align: top;\n",
       "    }\n",
       "\n",
       "    .dataframe thead th {\n",
       "        text-align: right;\n",
       "    }\n",
       "</style>\n",
       "<table border=\"1\" class=\"dataframe\">\n",
       "  <thead>\n",
       "    <tr style=\"text-align: right;\">\n",
       "      <th></th>\n",
       "      <th>moment</th>\n",
       "      <th>type</th>\n",
       "    </tr>\n",
       "  </thead>\n",
       "  <tbody>\n",
       "    <tr>\n",
       "      <th>0</th>\n",
       "      <td>2024-01-01 00:00:14</td>\n",
       "      <td>other</td>\n",
       "    </tr>\n",
       "    <tr>\n",
       "      <th>1</th>\n",
       "      <td>2024-01-01 00:01:32</td>\n",
       "      <td>other</td>\n",
       "    </tr>\n",
       "    <tr>\n",
       "      <th>2</th>\n",
       "      <td>2024-01-01 00:08:27</td>\n",
       "      <td>other</td>\n",
       "    </tr>\n",
       "    <tr>\n",
       "      <th>3</th>\n",
       "      <td>2024-01-01 00:10:47</td>\n",
       "      <td>other</td>\n",
       "    </tr>\n",
       "    <tr>\n",
       "      <th>4</th>\n",
       "      <td>2024-01-01 00:12:18</td>\n",
       "      <td>other</td>\n",
       "    </tr>\n",
       "  </tbody>\n",
       "</table>\n",
       "</div>"
      ],
      "text/plain": [
       "               moment   type\n",
       "0 2024-01-01 00:00:14  other\n",
       "1 2024-01-01 00:01:32  other\n",
       "2 2024-01-01 00:08:27  other\n",
       "3 2024-01-01 00:10:47  other\n",
       "4 2024-01-01 00:12:18  other"
      ]
     },
     "execution_count": 78,
     "metadata": {},
     "output_type": "execute_result"
    }
   ],
   "source": [
    "#finally: we add a new col: type: for allow for mothly payments ( rent , electricity etc..)\n",
    " \n",
    "#here we are preparing the moments: for each firsd day of the month, we will choose one moment, which will have \n",
    "#the type as monthly, to pay expenses and getting salaries, for all other expenses, the type will be 'other'\n",
    "# Create a column to identify the first day of each month\n",
    "moments['first_day_of_month'] = moments['moment'].dt.is_month_start\n",
    "\n",
    "# Randomly select one moment for each first day of the month\n",
    "first_day_moments = moments[moments['first_day_of_month']]\n",
    "\n",
    "# Randomly assign one 'monthly' label for each first day of the month\n",
    "first_day_moments['type'] = 'monthly'\n",
    "first_day_moments = first_day_moments.groupby(first_day_moments['moment'].dt.to_period('M')).sample(n=1)\n",
    "\n",
    "# Merge the 'first_day_moments' back into the original dataframe\n",
    "moments = pd.merge(moments, first_day_moments[['moment', 'type']], how='left', on='moment')\n",
    "\n",
    "# For all other rows, assign 'other' type\n",
    "moments['type'] = moments['type'].fillna('other')\n",
    " \n",
    "moments = moments[['moment', 'type']]\n",
    "moments.head()"
   ]
  },
  {
   "cell_type": "code",
   "execution_count": 79,
   "id": "3b20c8dc",
   "metadata": {},
   "outputs": [
    {
     "data": {
      "text/plain": [
       "287944"
      ]
     },
     "execution_count": 79,
     "metadata": {},
     "output_type": "execute_result"
    }
   ],
   "source": [
    "nr_people = 3000\n",
    "nr_monthly_payments_categories= 6\n",
    "final_nr_transactions = (len ( moments.query(\"type=='monthly'\"))  * nr_people*nr_monthly_payments_categories ) + len ( moments.query(\"type!='monthly'\"))\n",
    "final_nr_transactions"
   ]
  },
  {
   "cell_type": "code",
   "execution_count": 80,
   "id": "c334a7f9",
   "metadata": {},
   "outputs": [
    {
     "data": {
      "text/plain": [
       "53944"
      ]
     },
     "execution_count": 80,
     "metadata": {},
     "output_type": "execute_result"
    }
   ],
   "source": [
    "len ( moments.query(\"type!='monthly'\"))"
   ]
  },
  {
   "cell_type": "code",
   "execution_count": 81,
   "id": "f272f598",
   "metadata": {},
   "outputs": [
    {
     "name": "stdout",
     "output_type": "stream",
     "text": [
      "done\n"
     ]
    }
   ],
   "source": [
    "moments.to_excel('moments.xlsx', index=False)\n",
    "print('done')"
   ]
  }
 ],
 "metadata": {
  "kernelspec": {
   "display_name": "Python 3 (ipykernel)",
   "language": "python",
   "name": "python3"
  },
  "language_info": {
   "codemirror_mode": {
    "name": "ipython",
    "version": 3
   },
   "file_extension": ".py",
   "mimetype": "text/x-python",
   "name": "python",
   "nbconvert_exporter": "python",
   "pygments_lexer": "ipython3",
   "version": "3.9.12"
  }
 },
 "nbformat": 4,
 "nbformat_minor": 5
}
